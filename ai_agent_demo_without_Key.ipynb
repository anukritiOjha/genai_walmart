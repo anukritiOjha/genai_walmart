{
 "cells": [
  {
   "cell_type": "code",
   "execution_count": null,
   "metadata": {},
   "outputs": [],
   "source": [
    "# Install AutoGen if needed\n",
    "!pip install pyautogen"
   ]
  },
  {
   "cell_type": "code",
   "execution_count": 13,
   "metadata": {},
   "outputs": [],
   "source": [
    "#!pip install openai"
   ]
  },
  {
   "cell_type": "code",
   "execution_count": null,
   "metadata": {},
   "outputs": [],
   "source": [
    "from openai import OpenAI\n",
    "import os\n",
    "\n",
    "## Set the API key and model name\n",
    "\n",
    "MODEL= \"gpt-4o\"\n",
    "\n",
    "api_key = \"Elelemnta_Walmart_APIKey\"\n",
    "\n",
    "client = OpenAI(api_key=api_key)"
   ]
  },
  {
   "cell_type": "code",
   "execution_count": 2,
   "metadata": {},
   "outputs": [],
   "source": [
    "# Import required classes\n",
    "from autogen import AssistantAgent, UserProxyAgent, GroupChat, GroupChatManager"
   ]
  },
  {
   "cell_type": "code",
   "execution_count": 3,
   "metadata": {},
   "outputs": [],
   "source": [
    "# Set your OpenAI API key\n",
    "config = {\n",
    "    \"model\": \"gpt-4o\",\n",
    "    \"api_key\": api_key  # Replace with your OpenAI API key\n",
    "}"
   ]
  },
  {
   "cell_type": "markdown",
   "metadata": {},
   "source": [
    "You’re specifying the model and authentication to use with OpenAI’s API."
   ]
  },
  {
   "cell_type": "code",
   "execution_count": 4,
   "metadata": {},
   "outputs": [],
   "source": [
    "# 👨‍💻 PythonCoder agent\n",
    "coder = AssistantAgent(\n",
    "    name=\"PythonCoder\",\n",
    "    llm_config=config,\n",
    "    system_message=\"You are an expert Python programmer. Write and explain clear, commented code.\"\n",
    ")"
   ]
  },
  {
   "cell_type": "code",
   "execution_count": 5,
   "metadata": {},
   "outputs": [],
   "source": [
    "# 🧐 Reviewer agent\n",
    "reviewer = AssistantAgent(\n",
    "    name=\"Reviewer\",\n",
    "    llm_config=config,\n",
    "    system_message=\"You are a strict code reviewer. Offer constructive feedback.\"\n",
    ")"
   ]
  },
  {
   "cell_type": "markdown",
   "metadata": {},
   "source": [
    "• Creates another assistant agent named \"Reviewer\"\n",
    "• Also powered by GPT-4\n",
    "• Role: Act as a strict reviewer\n",
    "• Will analyze code critically\n",
    "• Provide suggestions or identify bugs\n",
    "• Ensure best practices, formatting, security, etc."
   ]
  },
  {
   "cell_type": "code",
   "execution_count": 21,
   "metadata": {},
   "outputs": [],
   "source": [
    "from autogen import UserProxyAgent\n",
    "\n",
    "user_proxy = UserProxyAgent(\n",
    "    name=\"user_proxy\",\n",
    "    code_execution_config={\n",
    "        \"use_docker\": False },\n",
    "    human_input_mode=\"NEVER\",  # Simulates user\n",
    "    max_consecutive_auto_reply=3\n",
    ")"
   ]
  },
  {
   "cell_type": "code",
   "execution_count": 22,
   "metadata": {},
   "outputs": [],
   "source": [
    "# GroupChat setup\n",
    "group_chat = GroupChat(\n",
    "    agents=[user_proxy, coder, reviewer],\n",
    "    messages=[],\n",
    "    max_round=5\n",
    ")\n",
    "\n",
    "manager = GroupChatManager(\n",
    "    groupchat=group_chat,\n",
    "    llm_config=config\n",
    ")"
   ]
  },
  {
   "cell_type": "code",
   "execution_count": null,
   "metadata": {},
   "outputs": [],
   "source": [
    "# 🚀 Start the agent discussion\n",
    "user_proxy.initiate_chat(\n",
    "    manager,\n",
    "    message=\"Write a function to check if a number is prime, and explain it.\"\n",
    ")"
   ]
  },
  {
   "cell_type": "markdown",
   "metadata": {},
   "source": [
    "2. Create a Custom Tool to Save Code\n",
    "\n",
    "Add a CodeSaverAgent that receives code and writes it to a file."
   ]
  },
  {
   "cell_type": "code",
   "execution_count": 25,
   "metadata": {},
   "outputs": [],
   "source": [
    "import os\n",
    "\n",
    "class CodeSaverAgent(AssistantAgent):\n",
    "    def save_code_to_file(self, code: str, filename=\"generated_code.py\"):\n",
    "        with open(filename, \"w\") as f:\n",
    "            f.write(code)\n",
    "        return f\"Code saved to {filename}\"\n",
    "\n",
    "# Inherit and customize response\n",
    "class CodeSaverAssistant(CodeSaverAgent):\n",
    "    def _process_message(self, message, sender, config):\n",
    "        if \"save this code\" in message.lower():\n",
    "            code_block = message.split(\"```python\")[1].split(\"```\")[0]\n",
    "            return self.save_code_to_file(code_block)\n",
    "        return super()._process_message(message, sender, config)"
   ]
  },
  {
   "cell_type": "markdown",
   "metadata": {},
   "source": [
    "🔗 3. Integrate into GroupChat\n",
    "\n",
    "Add this new agent to your group chat:"
   ]
  },
  {
   "cell_type": "code",
   "execution_count": 26,
   "metadata": {},
   "outputs": [],
   "source": [
    "code_saver = CodeSaverAssistant(\n",
    "    name=\"CodeSaver\",\n",
    "    llm_config=config,\n",
    "    system_message=\"You save valid Python code sent to you as .py files.\"\n",
    ")\n",
    "\n",
    "group_chat = GroupChat(\n",
    "    agents=[user_proxy, coder, reviewer, code_saver],\n",
    "    messages=[],\n",
    "    max_round=6\n",
    ")\n",
    "\n",
    "manager = GroupChatManager(\n",
    "    groupchat=group_chat,\n",
    "    llm_config=config\n",
    ")"
   ]
  },
  {
   "cell_type": "markdown",
   "metadata": {},
   "source": [
    "🚀 4. Run a Complete Workflow\n",
    "\n",
    "Update the initial task:"
   ]
  },
  {
   "cell_type": "code",
   "execution_count": null,
   "metadata": {},
   "outputs": [],
   "source": [
    "user_proxy.initiate_chat(\n",
    "    manager,\n",
    "    message=\"Write a prime number checker in Python, explain it, and ask CodeSaver to save it.\"\n",
    ")"
   ]
  }
 ],
 "metadata": {
  "kernelspec": {
   "display_name": "Python 3",
   "language": "python",
   "name": "python3"
  },
  "language_info": {
   "codemirror_mode": {
    "name": "ipython",
    "version": 3
   },
   "file_extension": ".py",
   "mimetype": "text/x-python",
   "name": "python",
   "nbconvert_exporter": "python",
   "pygments_lexer": "ipython3",
   "version": "3.13.0"
  }
 },
 "nbformat": 4,
 "nbformat_minor": 2
}
