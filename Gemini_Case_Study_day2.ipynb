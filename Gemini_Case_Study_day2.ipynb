{
 "cells": [
  {
   "cell_type": "markdown",
   "id": "982d4690",
   "metadata": {},
   "source": [
    "Gemini API quickstart"
   ]
  },
  {
   "cell_type": "code",
   "execution_count": 3,
   "id": "b81c4202",
   "metadata": {},
   "outputs": [
    {
     "name": "stdout",
     "output_type": "stream",
     "text": [
      "\u001b[31mERROR: pip's dependency resolver does not currently take into account all the packages that are installed. This behaviour is the source of the following dependency conflicts.\n",
      "streamlit 1.30.0 requires protobuf<5,>=3.20, but you have protobuf 5.29.5 which is incompatible.\n",
      "streamlit 1.30.0 requires rich<14,>=10.14.0, but you have rich 14.0.0 which is incompatible.\u001b[0m\u001b[31m\n",
      "\u001b[0mNote: you may need to restart the kernel to use updated packages.\n"
     ]
    }
   ],
   "source": [
    "pip install -q -U google-genai"
   ]
  },
  {
   "cell_type": "code",
   "execution_count": null,
   "id": "e93b49af",
   "metadata": {},
   "outputs": [
    {
     "name": "stdout",
     "output_type": "stream",
     "text": [
      "AI learns patterns from data to make decisions or predictions.\n"
     ]
    }
   ],
   "source": [
    "from google import genai\n",
    "\n",
    "GEMINI_API_KEY = \"\"\"\n",
    "\n",
    "client = genai.Client(api_key=GEMINI_API_KEY)\n",
    "\n",
    "response = client.models.generate_content(\n",
    "    model=\"gemini-2.5-flash\",\n",
    "    contents=\"Explain how AI works in a few words\",\n",
    ")\n",
    "\n",
    "print(response.text)"
   ]
  },
  {
   "cell_type": "code",
   "execution_count": null,
   "id": "f71391dc",
   "metadata": {},
   "outputs": [
    {
     "name": "stdout",
     "output_type": "stream",
     "text": [
      "AI learns patterns from data to make predictions or decisions.\n"
     ]
    }
   ],
   "source": [
    "from google import genai\n",
    "\n",
    "GEMINI_API_KEY = \"\"\n",
    "\n",
    "client = genai.Client(api_key=GEMINI_API_KEY)\n",
    "\n",
    "response = client.models.generate_content(\n",
    "    model=\"gemini-2.5-flash\", contents=\"Explain how AI works in a few words\"\n",
    ")\n",
    "print(response.text)"
   ]
  },
  {
   "cell_type": "code",
   "execution_count": 7,
   "id": "a878cfdf",
   "metadata": {},
   "outputs": [
    {
     "name": "stdout",
     "output_type": "stream",
     "text": [
      "AI works by finding patterns in data.\n"
     ]
    }
   ],
   "source": [
    "from google import genai\n",
    "from google.genai import types\n",
    "\n",
    "client = genai.Client(api_key=GEMINI_API_KEY)\n",
    "\n",
    "response = client.models.generate_content(\n",
    "    model=\"gemini-2.5-flash\",\n",
    "    contents=\"Explain how AI works in a few words\",\n",
    "    config=types.GenerateContentConfig(\n",
    "        thinking_config=types.ThinkingConfig(thinking_budget=0) # Disables thinking\n",
    "    ),\n",
    ")\n",
    "print(response.text)"
   ]
  },
  {
   "cell_type": "code",
   "execution_count": null,
   "id": "4e743221",
   "metadata": {},
   "outputs": [
    {
     "name": "stdout",
     "output_type": "stream",
     "text": [
      "Of course! Here is an explanation of Occam's Razor with a simple, everyday example.\n",
      "\n",
      "### What is Occam's Razor?\n",
      "\n",
      "Occam's Razor is a problem-solving principle or a \"rule of thumb\" that can be summed up as:\n",
      "\n",
      "**\"Among competing hypotheses, the one with the fewest assumptions should be selected.\"**\n",
      "\n",
      "In simpler terms, it means that **the simplest explanation is usually the right one.**\n",
      "\n",
      "It's important to understand what \"simplest\" means in this context. It doesn't mean the easiest explanation to understand. It means the explanation that requires the fewest new or unproven ideas to make it work. Each assumption you have to make is another point where the explanation could be wrong.\n",
      "\n",
      "The principle is named after William of Ockham, a 14th-century philosopher and theologian, and it serves as a powerful guide in science, philosophy, and everyday reasoning.\n",
      "\n",
      "**Key Points to Remember:**\n",
      "*   It's not an unbreakable law; it's a guideline.\n",
      "*   It doesn't say that the more complex theory is *definitely* wrong.\n",
      "*   It's most useful when you have multiple explanations that all seem to fit the available evidence.\n",
      "\n",
      "---\n",
      "\n",
      "### A Simple, Everyday Example\n",
      "\n",
      "Imagine you wake up in the morning and see your favorite flower pot, which you left on a porch railing, is now lying broken on the ground.\n",
      "\n",
      "You think of two possible explanations:\n",
      "\n",
      "*   **Explanation A:** The wind was strong last night and knocked the pot over.\n",
      "*   **Explanation B:** A team of highly-trained cat burglars was practicing their skills in your neighborhood. They accidentally knocked the pot over while rappelling from your roof, then carefully gathered all the valuable dirt and broken ceramic pieces to avoid leaving evidence, but missed a few fragments.\n",
      "\n",
      "Let's apply Occam's Razor.\n",
      "\n",
      "*   **Explanation A** requires very few assumptions:\n",
      "    1.  It was windy. (This is common and easily verifiable).\n",
      "    2.  The wind was strong enough to push a pot. (This is physically plausible).\n",
      "\n",
      "*   **Explanation B** requires a whole chain of extraordinary assumptions:\n",
      "    1.  There is a team of cat burglars.\n",
      "    2.  They chose your house for practice.\n",
      "    3.  They use rappelling gear.\n",
      "    4.  They were clumsy enough to knock over a pot.\n",
      "    5.  They decided to clean up their mess for some reason.\n",
      "\n",
      "According to Occam's Razor, **Explanation A is the far better choice.** It relies on simple, everyday phenomena (the wind) rather than a complex, unlikely conspiracy. While the cat burglar theory is *technically possible*, it is so ridiculously complex and full of unproven assumptions that you should dismiss it unless you find specific evidence to support it (like tiny grappling hooks or cat paw prints).\n",
      "\n",
      "In short, Occam's Razor tells you to start with the most logical and straightforward cause—the wind—before jumping to wild, elaborate conclusions.\n"
     ]
    }
   ],
   "source": [
    "from google import genai\n",
    "\n",
    "GEMINI_API_KEY = \"\"\n",
    "\n",
    "client = genai.Client(api_key=GEMINI_API_KEY)\n",
    "prompt = \"Explain the concept of Occam's Razor and provide a simple, everyday example.\"\n",
    "response = client.models.generate_content(\n",
    "    model=\"gemini-2.5-pro\",\n",
    "    contents=prompt\n",
    ")\n",
    "\n",
    "print(response.text)"
   ]
  },
  {
   "cell_type": "code",
   "execution_count": 1,
   "id": "edc9e1ce",
   "metadata": {},
   "outputs": [],
   "source": [
    "import langchain"
   ]
  },
  {
   "cell_type": "code",
   "execution_count": null,
   "id": "135df9a0",
   "metadata": {},
   "outputs": [],
   "source": [
    "pip install sentence-transformers pymilvus langchain"
   ]
  },
  {
   "cell_type": "code",
   "execution_count": 8,
   "id": "f90bc683",
   "metadata": {},
   "outputs": [],
   "source": [
    "from sentence_transformers import SentenceTransformer\n",
    "\n",
    "# Load pre-trained embedding model\n",
    "model = SentenceTransformer('all-MiniLM-L6-v2')\n",
    "\n",
    "# Sample Walmart content (e.g., product or policy document)\n",
    "docs = [\n",
    "    \"Return policy: Electronics must be returned within 45 days.\",\n",
    "    \"Product: ₹999 kids backpack with cartoon print and zip pockets.\",\n",
    "    \"Order placed after 8 PM will ship next day from Pune warehouse.\"\n",
    "]\n",
    "\n",
    "# Generate embeddings\n",
    "embeddings = model.encode(docs)"
   ]
  },
  {
   "cell_type": "code",
   "execution_count": null,
   "id": "78dbc77a",
   "metadata": {},
   "outputs": [],
   "source": [
    "cluster_endpoint = \".zilliz.com\"\n",
    "api_key = \" \""
   ]
  },
  {
   "cell_type": "code",
   "execution_count": 9,
   "id": "031a5c27",
   "metadata": {},
   "outputs": [
    {
     "name": "stdout",
     "output_type": "stream",
     "text": [
      "✅ Connected to Milvus Cloud!\n"
     ]
    }
   ],
   "source": [
    "from pymilvus import connections\n",
    "\n",
    "connections.connect(\n",
    "    uri=cluster_endpoint,\n",
    "    token=api_key,\n",
    "    secure=True\n",
    ")\n",
    "\n",
    "print(\"✅ Connected to Milvus Cloud!\")"
   ]
  },
  {
   "cell_type": "code",
   "execution_count": 12,
   "id": "ec0af667",
   "metadata": {},
   "outputs": [],
   "source": [
    "docs = [\n",
    "    \"Walmart allows electronics returns within 30 days with a receipt.\",\n",
    "    \"Suppliers must complete onboarding forms before shipment approval.\",\n",
    "    \"Walmart Plus members get free shipping on all orders.\",\n",
    "    \"Returns on perishable items are not accepted beyond 7 days.\",\n",
    "    \"Employees can access HR policies via the internal portal.\"\n",
    "]"
   ]
  },
  {
   "cell_type": "code",
   "execution_count": 13,
   "id": "83b5df16",
   "metadata": {},
   "outputs": [],
   "source": [
    "from sentence_transformers import SentenceTransformer\n",
    "\n",
    "model = SentenceTransformer('all-MiniLM-L6-v2')\n",
    "embeddings = model.encode(docs)"
   ]
  },
  {
   "cell_type": "code",
   "execution_count": 14,
   "id": "4873e84f",
   "metadata": {},
   "outputs": [
    {
     "name": "stdout",
     "output_type": "stream",
     "text": [
      "✅ Connected to Milvus Cloud!\n"
     ]
    }
   ],
   "source": [
    "from pymilvus import connections\n",
    "\n",
    "connections.connect(\n",
    "    uri=cluster_endpoint,\n",
    "    token=api_key,\n",
    "    secure=True\n",
    ")\n",
    "print(\"✅ Connected to Milvus Cloud!\")"
   ]
  },
  {
   "cell_type": "code",
   "execution_count": 15,
   "id": "3b325229",
   "metadata": {},
   "outputs": [],
   "source": [
    "from pymilvus import Collection, FieldSchema, CollectionSchema, DataType\n",
    "\n",
    "fields = [\n",
    "    FieldSchema(name=\"id\", dtype=DataType.INT64, is_primary=True, auto_id=True),\n",
    "    FieldSchema(name=\"content\", dtype=DataType.VARCHAR, max_length=512),\n",
    "    FieldSchema(name=\"embedding\", dtype=DataType.FLOAT_VECTOR, dim=384),\n",
    "]\n",
    "schema = CollectionSchema(fields)\n",
    "collection = Collection(\"walmart_docs\", schema)"
   ]
  },
  {
   "cell_type": "code",
   "execution_count": 16,
   "id": "df365d9d",
   "metadata": {},
   "outputs": [
    {
     "data": {
      "text/plain": [
       "(insert count: 5, delete count: 0, upsert count: 0, timestamp: 458909241887424515, success count: 5, err count: 0, cost: 2)"
      ]
     },
     "execution_count": 16,
     "metadata": {},
     "output_type": "execute_result"
    }
   ],
   "source": [
    "insert_data = [\n",
    "    [doc for doc in docs],\n",
    "    [vec.tolist() for vec in embeddings]\n",
    "]\n",
    "collection.insert(insert_data)"
   ]
  },
  {
   "cell_type": "code",
   "execution_count": 17,
   "id": "672a4536",
   "metadata": {},
   "outputs": [],
   "source": [
    "collection.create_index(\n",
    "    field_name=\"embedding\",\n",
    "    index_params={\"index_type\": \"AUTOINDEX\", \"metric_type\": \"COSINE\"}\n",
    ")\n",
    "collection.load()"
   ]
  },
  {
   "cell_type": "code",
   "execution_count": 18,
   "id": "3cd6cf07",
   "metadata": {},
   "outputs": [
    {
     "name": "stdout",
     "output_type": "stream",
     "text": [
      "💡 Top Match: Return policy: Electronics must be returned within 45 days. → Score: 0.7825798988342285\n"
     ]
    }
   ],
   "source": [
    "query = \"What is the return policy for electronics?\"\n",
    "query_embedding = model.encode([query]).tolist()\n",
    "\n",
    "results = collection.search(\n",
    "    data=query_embedding,\n",
    "    anns_field=\"embedding\",\n",
    "    param={\"metric_type\": \"COSINE\", \"params\": {\"nprobe\": 10}},\n",
    "    limit=1,\n",
    "    output_fields=[\"content\"]\n",
    ")\n",
    "\n",
    "for hit in results[0]:\n",
    "    print(\"💡 Top Match:\", hit.entity.get(\"content\"), \"→ Score:\", hit.distance)"
   ]
  }
 ],
 "metadata": {
  "kernelspec": {
   "display_name": "Python 3",
   "language": "python",
   "name": "python3"
  },
  "language_info": {
   "codemirror_mode": {
    "name": "ipython",
    "version": 3
   },
   "file_extension": ".py",
   "mimetype": "text/x-python",
   "name": "python",
   "nbconvert_exporter": "python",
   "pygments_lexer": "ipython3",
   "version": "3.13.0"
  }
 },
 "nbformat": 4,
 "nbformat_minor": 5
}
